{
 "cells": [
  {
   "cell_type": "code",
   "execution_count": 1,
   "metadata": {},
   "outputs": [],
   "source": [
    "import numpy as np\n",
    "import matplotlib\n",
    "import matplotlib.pyplot as plt\n",
    "from sklearn.datasets import fetch_openml\n",
    "from sklearn.metrics import classification_report, confusion_matrix"
   ]
  },
  {
   "cell_type": "code",
   "execution_count": 2,
   "metadata": {},
   "outputs": [],
   "source": [
    "# data importing\n",
    "mnist = fetch_openml('mnist_784')"
   ]
  },
  {
   "cell_type": "code",
   "execution_count": 3,
   "metadata": {},
   "outputs": [],
   "source": [
    "#data split as data and target and scaling\n",
    "X = mnist['data']\n",
    "Y = mnist['target']\n",
    "X = X/255\n",
    "\n",
    "# one hot encoding of the labels\n",
    "\n",
    "number_digits = 10\n",
    "number_examples = Y.shape[0]\n",
    "\n",
    "Y = Y.reshape(1, number_examples)\n",
    "Y_new = np.eye(number_digits)[Y.astype('int32')]\n",
    "Y_new = Y_new.T.reshape(number_digits, number_examples)\n",
    "\n",
    "# train test split\n",
    "number_train_sample = 60000\n",
    "number_test_sample = X.shape[0] - number_train_sample\n",
    "\n",
    "X_train, Y_train = X[:number_train_sample].T, Y_new[:,:number_train_sample]\n",
    "X_test, Y_test = X[number_train_sample:].T, Y_new[:,number_train_sample:]\n",
    "\n",
    "\n",
    "index = np.random.permutation(number_train_sample)\n",
    "X_train = X_train[:,index]\n",
    "Y_train = Y_train[:,index]"
   ]
  },
  {
   "cell_type": "code",
   "execution_count": 4,
   "metadata": {},
   "outputs": [],
   "source": [
    "# necessary functions\n",
    "\n",
    "def sigmoid(z):\n",
    "    return (1/(1+np.exp(-z)))\n",
    "\n",
    "def prime_sigmoid(z):\n",
    "    return ((sigmoid(z)*(1-sigmoid(z))))\n",
    "\n",
    "def softmax(z):\n",
    "    return ((np.exp(z)/np.sum(np.exp(z), axis=0)))\n",
    "\n",
    "def multiclass_cross_entropy(y, y_hat):\n",
    "    m = y.shape[1]\n",
    "    loss = (-1/m)*(np.sum(np.multiply(y, np.log(y_hat))))\n",
    "    return loss\n",
    "\n",
    "def Feedforward(X, params):\n",
    "    \n",
    "    forward_prop = {}\n",
    "    forward_prop[\"Z1\"] = np.matmul(params[\"W1\"], X) + params[\"b1\"]\n",
    "    forward_prop[\"A1\"] = sigmoid(forward_prop[\"Z1\"])\n",
    "    forward_prop[\"Z2\"] = np.matmul(params[\"W2\"], forward_prop[\"A1\"]) + params[\"b2\"]\n",
    "    forward_prop[\"A2\"] = softmax(forward_prop[\"Z2\"])\n",
    "    \n",
    "    return forward_prop\n",
    "\n",
    "def Backpropagation(X, Y, params, forward_prop, bs):\n",
    "    \n",
    "    dZ2 = forward_prop[\"A2\"] - Y\n",
    "    dW2 = (1/bs)*np.matmul(dZ2, forward_prop[\"A1\"].T)\n",
    "    db2 = (1/bs)*(np.sum(dZ2))\n",
    "    \n",
    "    dA1 = np.matmul(params[\"W2\"].T, dZ2)\n",
    "    dZ1 = dA1 * prime_sigmoid(forward_prop[\"Z1\"])\n",
    "    dW1 = (1/bs)*np.matmul(dZ1, X.T)\n",
    "    db1 = (1/bs)*np.sum(dZ1)\n",
    "    \n",
    "    gradients = {\"dW1\": dW1,\n",
    "                 \"db1\": db1,\n",
    "                 \"dW2\": dW2,\n",
    "                 \"db2\": db2}\n",
    "    return gradients"
   ]
  },
  {
   "cell_type": "code",
   "execution_count": 10,
   "metadata": {},
   "outputs": [
    {
     "name": "stdout",
     "output_type": "stream",
     "text": [
      "Epoch 1: training_loss = 0.11717457484939364, testing_loss = 0.1308346538331093\n",
      "Epoch 2: training_loss = 0.08876148204226271, testing_loss = 0.11663723638517873\n",
      "Epoch 3: training_loss = 0.06237927690462635, testing_loss = 0.09449724995064575\n",
      "Epoch 4: training_loss = 0.047871628551309296, testing_loss = 0.08899758158822776\n",
      "Epoch 5: training_loss = 0.041783633350873185, testing_loss = 0.08983044845075952\n",
      "Epoch 6: training_loss = 0.03370110869863423, testing_loss = 0.09197935496060124\n",
      "Epoch 7: training_loss = 0.025810274387323782, testing_loss = 0.08098189933388227\n",
      "Epoch 8: training_loss = 0.0268858550567788, testing_loss = 0.09595094936870262\n",
      "Epoch 9: training_loss = 0.01827264475545489, testing_loss = 0.09017929026122369\n"
     ]
    },
    {
     "data": {
      "image/png": "[encoded data removed]",
      "text/plain": [
       "<Figure size 432x288 with 1 Axes>"
      ]
     },
     "metadata": {
      "needs_background": "light"
     },
     "output_type": "display_data"
    }
   ],
   "source": [
    "np.random.seed(138)\n",
    "\n",
    "# defining hyper parameters\n",
    "number_inputlayers = X_train.shape[0]\n",
    "number_hiddenlayers = 100\n",
    "learning_rate = 8\n",
    "beta = 0.9\n",
    "number_batches = 128\n",
    "batches = -(-number_train_sample // number_batches)\n",
    "ilist = []\n",
    "trl = []\n",
    "tel = []\n",
    "#initialiation of weights and biases\n",
    "#shrink the variance of the weights in each layer for initialization and\n",
    "#it is done by divinding the parameters by np.sqrt(n)\n",
    "#- n:number_inputlayers for input layer and n:number_hiddenlayer for hidden layer\n",
    "\n",
    "parameters = {\"W1\": (np.random.randn(number_hiddenlayers, number_inputlayers) * np.sqrt(1/number_inputlayers)),\n",
    "              \"b1\": (np.zeros((number_hiddenlayers, 1)) * np.sqrt(1/number_inputlayers)),\n",
    "              \"W2\": (np.random.randn(number_digits, number_hiddenlayers) * np.sqrt(1/number_hiddenlayers)),\n",
    "              \"b2\": (np.zeros((number_digits, 1)) * np.sqrt(1/number_hiddenlayers))}\n",
    "\n",
    "#initialization for momentum variables\n",
    "\n",
    "momentum_dW1 = np.zeros(parameters[\"W1\"].shape)\n",
    "momentum_db1 = np.zeros(parameters[\"b1\"].shape)\n",
    "momentum_dW2 = np.zeros(parameters[\"W2\"].shape)\n",
    "momentum_db2 = np.zeros(parameters[\"b2\"].shape)\n",
    "\n",
    "# training the network model\n",
    "for i in range(9):\n",
    "    \n",
    "    #shuffling the training sets\n",
    "    index_shuffle = np.random.permutation(X_train.shape[1])\n",
    "    X_train_sh = X_train[:,index_shuffle]\n",
    "    Y_train_sh = Y_train[:,index_shuffle]\n",
    "    \n",
    "    for j in range(batches):\n",
    "        \n",
    "        # defining start and end of the batch\n",
    "        start = j * number_batches\n",
    "        end = min(start + number_batches, X_train.shape[1] - 1)\n",
    "        X = X_train_sh[:, start:end]\n",
    "        Y = Y_train_sh[:, start:end]\n",
    "        batch_size = end - start\n",
    "        \n",
    "        forward_prop = Feedforward(X, parameters)\n",
    "        gradiants = Backpropagation(X, Y, parameters, forward_prop, batch_size)\n",
    "        \n",
    "        # introducing momentum\n",
    "        momentum_dW1 = (beta * momentum_dW1) + (1-beta)*gradiants[\"dW1\"]\n",
    "        momentum_db1 = (beta * momentum_db1) + (1-beta)*gradiants[\"db1\"]\n",
    "        momentum_dW2 = (beta * momentum_dW2) + (1-beta)*gradiants[\"dW2\"]\n",
    "        momentum_db2 = (beta * momentum_db2) + (1-beta)*gradiants[\"db2\"]\n",
    "        \n",
    "        # updating gradients\n",
    "        parameters[\"W1\"] = parameters[\"W1\"] - learning_rate * momentum_dW1\n",
    "        parameters[\"b1\"] = parameters[\"b1\"] - learning_rate * momentum_db1\n",
    "        parameters[\"W2\"] = parameters[\"W2\"] - learning_rate * momentum_dW2\n",
    "        parameters[\"b2\"] = parameters[\"b2\"] - learning_rate * momentum_db2\n",
    "        \n",
    "    forward_prop = Feedforward(X_train, parameters)\n",
    "    training_loss = multiclass_cross_entropy(Y_train, forward_prop[\"A2\"])\n",
    "    testing = Feedforward(X_test, parameters)\n",
    "    testing_loss = multiclass_cross_entropy(Y_test, testing[\"A2\"])\n",
    "#     plt.plot(range(i,i+1), training_loss,color='green',linewidth=2, markersize=12)\n",
    "#     plt.plot(range(i,i+1), testing_loss,color='red',linewidth=2, markersize=12)\n",
    "    print(\"Epoch {}: training_loss = {}, testing_loss = {}\".format(i+1 ,training_loss, testing_loss))\n",
    "    ilist.append(i)\n",
    "    trl.append(training_loss)\n",
    "    tel.append(testing_loss)\n",
    "\n",
    "plt.plot(ilist, trl,color='green',linewidth=2, markersize=12, label='training_loss')\n",
    "plt.plot(ilist, tel,color='red',linewidth=2, markersize=12, label='testing_loss')\n",
    "plt.xlabel('epochs')\n",
    "plt.ylabel('loss')\n",
    "plt.legend()\n",
    "plt.show()\n"
   ]
  },
  {
   "cell_type": "code",
   "execution_count": null,
   "metadata": {
    "scrolled": false
   },
   "outputs": [],
   "source": [
    "feed_forward = Feedforward(X_test, parameters)\n",
    "predictions = np.argmax(feed_forward[\"A2\"], axis=0)\n",
    "labels = np.argmax(Y_test, axis=0)\n",
    "\n",
    "print(confusion_matrix(predictions, labels))\n",
    "print(classification_report(predictions, labels))"
   ]
  }
 ],
 "metadata": {
  "kernelspec": {
   "display_name": "Python 3",
   "language": "python",
   "name": "python3"
  },
  "language_info": {
   "codemirror_mode": {
    "name": "ipython",
    "version": 3
   },
   "file_extension": ".py",
   "mimetype": "text/x-python",
   "name": "python",
   "nbconvert_exporter": "python",
   "pygments_lexer": "ipython3",
   "version": "3.6.9"
  }
 },
 "nbformat": 4,
 "nbformat_minor": 2
}
