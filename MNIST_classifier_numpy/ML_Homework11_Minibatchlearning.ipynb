{
 "cells": [
  {
   "cell_type": "code",
   "execution_count": 1,
   "metadata": {},
   "outputs": [],
   "source": [
    "import numpy as np\n",
    "import matplotlib\n",
    "import matplotlib.pyplot as plt\n",
    "from sklearn.datasets import fetch_openml\n",
    "from sklearn.metrics import classification_report, confusion_matrix"
   ]
  },
  {
   "cell_type": "code",
   "execution_count": 2,
   "metadata": {},
   "outputs": [],
   "source": [
    "# data importing\n",
    "mnist = fetch_openml('mnist_784')"
   ]
  },
  {
   "cell_type": "code",
   "execution_count": 3,
   "metadata": {},
   "outputs": [],
   "source": [
    "#data split as data and target and scaling\n",
    "X = mnist['data']\n",
    "Y = mnist['target']\n",
    "X = X/255\n",
    "\n",
    "# one hot encoding of the labels\n",
    "\n",
    "number_digits = 10\n",
    "number_examples = Y.shape[0]\n",
    "\n",
    "Y = Y.reshape(1, number_examples)\n",
    "Y_new = np.eye(number_digits)[Y.astype('int32')]\n",
    "Y_new = Y_new.T.reshape(number_digits, number_examples)\n",
    "\n",
    "# train test split\n",
    "number_train_sample = 60000\n",
    "number_test_sample = X.shape[0] - number_train_sample\n",
    "\n",
    "X_train, Y_train = X[:number_train_sample].T, Y_new[:,:number_train_sample]\n",
    "X_test, Y_test = X[number_train_sample:].T, Y_new[:,number_train_sample:]\n",
    "\n",
    "\n",
    "index = np.random.permutation(number_train_sample)\n",
    "X_train = X_train[:,index]\n",
    "Y_train = Y_train[:,index]"
   ]
  },
  {
   "cell_type": "code",
   "execution_count": 4,
   "metadata": {},
   "outputs": [],
   "source": [
    "# necessary functions\n",
    "\n",
    "def sigmoid(z):\n",
    "    return (1/(1+np.exp(-z)))\n",
    "\n",
    "def prime_sigmoid(z):\n",
    "    return ((sigmoid(z)*(1-sigmoid(z))))\n",
    "\n",
    "def softmax(z):\n",
    "    return ((np.exp(z)/np.sum(np.exp(z), axis=0)))\n",
    "\n",
    "def multiclass_cross_entropy(y, y_hat):\n",
    "    m = y.shape[1]\n",
    "    loss = (-1/m)*(np.sum(np.multiply(y, np.log(y_hat))))\n",
    "    return loss\n",
    "\n",
    "def Feedforward(X, params):\n",
    "    \n",
    "    forward_prop = {}\n",
    "    forward_prop[\"Z1\"] = np.matmul(params[\"W1\"], X) + params[\"b1\"]\n",
    "    forward_prop[\"A1\"] = sigmoid(forward_prop[\"Z1\"])\n",
    "    forward_prop[\"Z2\"] = np.matmul(params[\"W2\"], forward_prop[\"A1\"]) + params[\"b2\"]\n",
    "    forward_prop[\"A2\"] = softmax(forward_prop[\"Z2\"])\n",
    "    \n",
    "    return forward_prop\n",
    "\n",
    "def Backpropagation(X, Y, params, forward_prop, bs):\n",
    "    \n",
    "    dZ2 = forward_prop[\"A2\"] - Y\n",
    "    dW2 = (1/bs)*np.matmul(dZ2, forward_prop[\"A1\"].T)\n",
    "    db2 = (1/bs)*(np.sum(dZ2))\n",
    "    \n",
    "    dA1 = np.matmul(params[\"W2\"].T, dZ2)\n",
    "    dZ1 = dA1 * prime_sigmoid(forward_prop[\"Z1\"])\n",
    "    dW1 = (1/bs)*np.matmul(dZ1, X.T)\n",
    "    db1 = (1/bs)*np.sum(dZ1)\n",
    "    \n",
    "    gradients = {\"dW1\": dW1,\n",
    "                 \"db1\": db1,\n",
    "                 \"dW2\": dW2,\n",
    "                 \"db2\": db2}\n",
    "    return gradients"
   ]
  },
  {
   "cell_type": "code",
   "execution_count": 9,
   "metadata": {},
   "outputs": [
    {
     "name": "stdout",
     "output_type": "stream",
     "text": [
      "Epoch 1: training_loss = 1.9445037548939077, testing_loss = 1.9366651288513725\n",
      "Epoch 11: training_loss = 0.5384649207958965, testing_loss = 0.5204894871172429\n",
      "Epoch 21: training_loss = 0.3988680236707564, testing_loss = 0.38314903939106193\n",
      "Epoch 31: training_loss = 0.3489967545804882, testing_loss = 0.33533215739135297\n",
      "Epoch 41: training_loss = 0.3214929792622214, testing_loss = 0.3093620543200802\n",
      "Epoch 51: training_loss = 0.30283831788655713, testing_loss = 0.2922901702232061\n",
      "Epoch 61: training_loss = 0.2884407660691635, testing_loss = 0.2792514189515125\n",
      "Epoch 71: training_loss = 0.2764779973719142, testing_loss = 0.2681970045293822\n",
      "Epoch 81: training_loss = 0.2658118001413342, testing_loss = 0.25905575297725136\n",
      "Epoch 91: training_loss = 0.256173627573234, testing_loss = 0.25034157728997464\n"
     ]
    },
    {
     "data": {
      "image/png": "[encoded data removed]",
      "text/plain": [
       "<Figure size 432x288 with 1 Axes>"
      ]
     },
     "metadata": {
      "needs_background": "light"
     },
     "output_type": "display_data"
    }
   ],
   "source": [
    "np.random.seed(138)\n",
    "\n",
    "# defining hyper parameters\n",
    "number_inputlayers = X_train.shape[0]\n",
    "number_hiddenlayers = 100\n",
    "learning_rate = 0.01\n",
    "beta = 0.9\n",
    "number_batches = 128\n",
    "batches = -(-number_train_sample // number_batches)\n",
    "ilist = []\n",
    "trl = []\n",
    "tel = []\n",
    "#initialiation of weights and biases\n",
    "#shrink the variance of the weights in each layer for initialization and\n",
    "#it is done by divinding the parameters by np.sqrt(n)\n",
    "#- n:number_inputlayers for input layer and n:number_hiddenlayer for hidden layer\n",
    "\n",
    "parameters = {\"W1\": (np.random.randn(number_hiddenlayers, number_inputlayers) * np.sqrt(1/number_inputlayers)),\n",
    "              \"b1\": (np.zeros((number_hiddenlayers, 1)) * np.sqrt(1/number_inputlayers)),\n",
    "              \"W2\": (np.random.randn(number_digits, number_hiddenlayers) * np.sqrt(1/number_hiddenlayers)),\n",
    "              \"b2\": (np.zeros((number_digits, 1)) * np.sqrt(1/number_hiddenlayers))}\n",
    "\n",
    "# training the network model\n",
    "for i in range(100):\n",
    "    \n",
    "    #shuffling the training sets\n",
    "    index_shuffle = np.random.permutation(X_train.shape[1])\n",
    "    X_train_sh = X_train[:,index_shuffle]\n",
    "    Y_train_sh = Y_train[:,index_shuffle]\n",
    "    \n",
    "    for j in range(batches):\n",
    "        \n",
    "        # defining start and end of the batch\n",
    "        start = j * number_batches\n",
    "        end = min(start + number_batches, X_train.shape[1] - 1)\n",
    "        X = X_train_sh[:, start:end]\n",
    "        Y = Y_train_sh[:, start:end]\n",
    "        batch_size = end - start\n",
    "        \n",
    "        forward_prop = Feedforward(X, parameters)\n",
    "        gradiants = Backpropagation(X, Y, parameters, forward_prop, batch_size)\n",
    "        \n",
    "        # updating gradients\n",
    "        parameters[\"W1\"] = parameters[\"W1\"] - learning_rate * gradiants[\"dW1\"]\n",
    "        parameters[\"b1\"] = parameters[\"b1\"] - learning_rate * gradiants[\"db1\"]\n",
    "        parameters[\"W2\"] = parameters[\"W2\"] - learning_rate * gradiants[\"dW2\"]\n",
    "        parameters[\"b2\"] = parameters[\"b2\"] - learning_rate * gradiants[\"db2\"]\n",
    "        \n",
    "    forward_prop = Feedforward(X_train, parameters)\n",
    "    training_loss = multiclass_cross_entropy(Y_train, forward_prop[\"A2\"])\n",
    "    testing = Feedforward(X_test, parameters)\n",
    "    testing_loss = multiclass_cross_entropy(Y_test, testing[\"A2\"])\n",
    "#     plt.plot(range(i,i+1), training_loss,color='green',linewidth=2, markersize=12)\n",
    "#     plt.plot(range(i,i+1), testing_loss,color='red',linewidth=2, markersize=12)\n",
    "    if (i%10 == 0):\n",
    "        print(\"Epoch {}: training_loss = {}, testing_loss = {}\".format(i+1 ,training_loss, testing_loss))\n",
    "    ilist.append(i)\n",
    "    trl.append(training_loss)\n",
    "    tel.append(testing_loss)\n",
    "\n",
    "plt.plot(ilist, trl,color='green',linewidth=2, markersize=12, label='training_loss')\n",
    "plt.plot(ilist, tel,color='red',linewidth=2, markersize=12, label='testing_loss')\n",
    "plt.xlabel('epochs')\n",
    "plt.ylabel('loss')\n",
    "plt.legend()\n",
    "plt.show()\n"
   ]
  },
  {
   "cell_type": "code",
   "execution_count": 10,
   "metadata": {
    "scrolled": false
   },
   "outputs": [
    {
     "name": "stdout",
     "output_type": "stream",
     "text": [
      "[[ 965    0    9    2    1   10   13    1    9   12]\n",
      " [   0 1110    6    1    2    4    3    9    6    7]\n",
      " [   3    2  941   22    4    3    5   24    4    1]\n",
      " [   2    2   13  926    0   39    0    5   17   11]\n",
      " [   0    0   10    0  924    7    9    6   10   38]\n",
      " [   2    1    1   21    0  780   14    0   21    5]\n",
      " [   6    4   12    2   11   14  910    0   11    0]\n",
      " [   1    2   12   13    2    4    1  954    7   17]\n",
      " [   1   14   24   15    4   23    3    3  885    5]\n",
      " [   0    0    4    8   34    8    0   26    4  913]]\n",
      "              precision    recall  f1-score   support\n",
      "\n",
      "           0       0.98      0.94      0.96      1022\n",
      "           1       0.98      0.97      0.97      1148\n",
      "           2       0.91      0.93      0.92      1009\n",
      "           3       0.92      0.91      0.91      1015\n",
      "           4       0.94      0.92      0.93      1004\n",
      "           5       0.87      0.92      0.90       845\n",
      "           6       0.95      0.94      0.94       970\n",
      "           7       0.93      0.94      0.93      1013\n",
      "           8       0.91      0.91      0.91       977\n",
      "           9       0.90      0.92      0.91       997\n",
      "\n",
      "    accuracy                           0.93     10000\n",
      "   macro avg       0.93      0.93      0.93     10000\n",
      "weighted avg       0.93      0.93      0.93     10000\n",
      "\n"
     ]
    }
   ],
   "source": [
    "feed_forward = Feedforward(X_test, parameters)\n",
    "predictions = np.argmax(feed_forward[\"A2\"], axis=0)\n",
    "labels = np.argmax(Y_test, axis=0)\n",
    "\n",
    "print(confusion_matrix(predictions, labels))\n",
    "print(classification_report(predictions, labels))"
   ]
  }
 ],
 "metadata": {
  "kernelspec": {
   "display_name": "Python 3",
   "language": "python",
   "name": "python3"
  },
  "language_info": {
   "codemirror_mode": {
    "name": "ipython",
    "version": 3
   },
   "file_extension": ".py",
   "mimetype": "text/x-python",
   "name": "python",
   "nbconvert_exporter": "python",
   "pygments_lexer": "ipython3",
   "version": "3.6.9"
  }
 },
 "nbformat": 4,
 "nbformat_minor": 2
}
