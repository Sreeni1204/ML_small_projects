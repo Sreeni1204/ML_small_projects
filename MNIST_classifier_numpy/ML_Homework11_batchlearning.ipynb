{
 "cells": [
  {
   "cell_type": "code",
   "execution_count": 1,
   "metadata": {},
   "outputs": [],
   "source": [
    "import numpy as np\n",
    "import matplotlib\n",
    "import matplotlib.pyplot as plt\n",
    "from sklearn.datasets import fetch_openml\n",
    "from sklearn.metrics import classification_report, confusion_matrix"
   ]
  },
  {
   "cell_type": "code",
   "execution_count": 2,
   "metadata": {},
   "outputs": [],
   "source": [
    "mnist = fetch_openml('mnist_784')"
   ]
  },
  {
   "cell_type": "code",
   "execution_count": 3,
   "metadata": {},
   "outputs": [],
   "source": [
    "# splitting data as data and target\n",
    "\n",
    "X = mnist[\"data\"]\n",
    "y = mnist[\"target\"]\n",
    "X = X/255 # normalization of data\n",
    "\n",
    "# for hot encoding the labels\n",
    "\n",
    "number_of_digits = 10\n",
    "number_of_examples = y.shape[0]\n",
    "\n",
    "y = y.reshape(1, number_of_examples)\n",
    "y_new = np.eye(number_of_digits)[y.astype('int32')]\n",
    "Y_new = y_new.T.reshape(number_of_digits, number_of_examples)\n",
    "\n",
    "# preparing train and test data\n",
    "number_train_samples = 60000\n",
    "number_test_samples = X.shape[0] - number_train_samples\n",
    "\n",
    "X_train, Y_train = X[:number_train_samples].T, Y_new[:,:number_train_samples]\n",
    "X_test, Y_test = X[number_train_samples:].T, Y_new[:,number_train_samples:]\n",
    "\n",
    "np.random.seed(138)\n",
    "shuffle_index = np.random.permutation(number_train_samples)\n",
    "X_train, Y_train = X_train[:,shuffle_index], Y_train[:,shuffle_index]"
   ]
  },
  {
   "cell_type": "code",
   "execution_count": 4,
   "metadata": {},
   "outputs": [
    {
     "data": {
      "image/png": "[encoded data removed]",
      "text/plain": [
       "<Figure size 432x288 with 1 Axes>"
      ]
     },
     "metadata": {
      "needs_background": "light"
     },
     "output_type": "display_data"
    },
    {
     "data": {
      "text/plain": [
       "array([0., 0., 0., 0., 0., 0., 0., 0., 0., 1.])"
      ]
     },
     "execution_count": 4,
     "metadata": {},
     "output_type": "execute_result"
    }
   ],
   "source": [
    "i = 8\n",
    "plt.imshow(X_train[:,i].reshape(28,28), cmap = matplotlib.cm.binary)\n",
    "plt.axis(\"off\")\n",
    "plt.show()\n",
    "Y_train[:,i]"
   ]
  },
  {
   "cell_type": "code",
   "execution_count": 5,
   "metadata": {},
   "outputs": [],
   "source": [
    "def sigmoid(z):\n",
    "    return 1/(1+np.exp(-z))\n",
    "\n",
    "def prime_sigmoid(z):\n",
    "    return (sigmoid(z)*(1-sigmoid(z)))\n",
    "\n",
    "def softmax(z):\n",
    "    return ((np.exp(z)/np.sum(np.exp(z), axis=0)))\n",
    "\n",
    "def cross_entropy_multi_class(y, y_hat):\n",
    "    \n",
    "    m = y.shape[1]\n",
    "    loss = (-1/m)*(np.sum(np.multiply(y, np.log(y_hat))))\n",
    "    return loss\n",
    "\n",
    "def Feedforward(X, params):\n",
    "    \n",
    "    forward_prop = {}\n",
    "    forward_prop[\"Z1\"] = np.matmul(params[\"W1\"], X) + params[\"b1\"]\n",
    "    forward_prop[\"A1\"] = sigmoid(forward_prop[\"Z1\"])\n",
    "    forward_prop[\"Z2\"] = np.matmul(params[\"W2\"], forward_prop[\"A1\"]) + params[\"b2\"]\n",
    "    forward_prop[\"A2\"] = softmax(forward_prop[\"Z2\"])\n",
    "    \n",
    "    return forward_prop\n",
    "\n",
    "def Backpropagate(X, Y, params, forward_prop):\n",
    "    \n",
    "    m = X.shape[0]\n",
    "    \n",
    "    dZ2 = forward_prop[\"A2\"] - Y\n",
    "    dW2 = (1/m)*(np.matmul(dZ2, forward_prop[\"A1\"].T))\n",
    "    db2 = (1/m)*(np.sum(dZ2))\n",
    "    \n",
    "    dA1 = np.matmul(params[\"W2\"].T, dZ2)\n",
    "    dZ1 = dA1 * prime_sigmoid(forward_prop[\"Z1\"])\n",
    "    dW1 = (1/m)*(np.matmul(dZ1, X.T))\n",
    "    db1 = (1/m)*(np.sum(dZ1))\n",
    "    \n",
    "    gradients = {\"dW1\": dW1,\n",
    "                 \"db1\": db1,\n",
    "                 \"dW2\": dW2,\n",
    "                 \"db2\": db2}\n",
    "    \n",
    "    return gradients"
   ]
  },
  {
   "cell_type": "code",
   "execution_count": 6,
   "metadata": {},
   "outputs": [
    {
     "name": "stdout",
     "output_type": "stream",
     "text": [
      "epoch: 0 training loss: 12.477405670944197\n",
      "epoch: 1000 training loss: 0.3173412506158842\n"
     ]
    },
    {
     "data": {
      "image/png": "[encoded data removed]",
      "text/plain": [
       "<Figure size 432x288 with 1 Axes>"
      ]
     },
     "metadata": {
      "needs_background": "light"
     },
     "output_type": "display_data"
    },
    {
     "name": "stdout",
     "output_type": "stream",
     "text": [
      "final loss: 0.2442163895533677\n"
     ]
    }
   ],
   "source": [
    "number_inputlayer = X_train.shape[0]\n",
    "number_hiddenlayer = 100\n",
    "learning_rate = 0.01\n",
    "ilist = []\n",
    "trl = []\n",
    "tel = []\n",
    "\n",
    "#parameters initialization\n",
    "parameters = {\"W1\": np.random.randn(number_hiddenlayer,number_inputlayer),\n",
    "              \"b1\": np.zeros((number_hiddenlayer, 1)),\n",
    "              \"W2\": np.random.randn(number_of_digits, number_hiddenlayer),\n",
    "              \"b2\": np.zeros((number_of_digits, 1))}\n",
    "\n",
    "for i in range(2000):\n",
    "    \n",
    "    forward_prop = Feedforward(X_train, parameters)\n",
    "    cost = cross_entropy_multi_class(Y_train, forward_prop[\"A2\"])\n",
    "    backword_prop = Backpropagate(X_train, Y_train, parameters, forward_prop)\n",
    "    \n",
    "    parameters[\"W2\"] = parameters[\"W2\"] - learning_rate * backword_prop[\"dW2\"]\n",
    "    parameters[\"b2\"] = parameters[\"b2\"] - learning_rate * backword_prop[\"db2\"]\n",
    "    parameters[\"W1\"] = parameters[\"W1\"] - learning_rate * backword_prop[\"dW1\"]\n",
    "    parameters[\"b1\"] = parameters[\"b1\"] - learning_rate * backword_prop[\"db1\"]\n",
    "    ilist.append(i)\n",
    "    trl.append(cost)\n",
    "#     tel.append(testing_loss)\n",
    "#     plt.plot(range(i,i+1), cost,color='green',linewidth=2, markersize=12)\n",
    "    if (i % 1000 ==0):\n",
    "        print(\"epoch:\",i,\"training loss:\",cost)\n",
    "\n",
    "plt.plot(ilist, trl,color='green',linewidth=2, markersize=12,label='training cost')\n",
    "# plt.plot(ilist, tel,color='red',linewidth=2, markersize=12)\n",
    "plt.xlabel('epochs')\n",
    "plt.ylabel('loss')\n",
    "plt.legend()\n",
    "plt.show()\n",
    "print(\"final loss:\",cost)"
   ]
  },
  {
   "cell_type": "code",
   "execution_count": 8,
   "metadata": {},
   "outputs": [
    {
     "name": "stdout",
     "output_type": "stream",
     "text": [
      "[[ 944    0    9    1    2    9   14    2   12    7]\n",
      " [   0 1108    7    0    2    4    3   10    2    6]\n",
      " [   4    6  929   16    8    6    8   22    7    4]\n",
      " [   4    3   14  913    3   36    1    7   30   11]\n",
      " [   0    1   10    3  896    4   16   10    5   37]\n",
      " [  11    1    3   35    2  783   15    1   22    5]\n",
      " [   6    3   14    1   12   10  893    0   15    1]\n",
      " [   2    1   19   14    4    6    2  934    7   32]\n",
      " [   7   12   21   20    9   25    6    6  863   15]\n",
      " [   2    0    6    7   44    9    0   36   11  891]]\n",
      "              precision    recall  f1-score   support\n",
      "\n",
      "           0       0.96      0.94      0.95      1000\n",
      "           1       0.98      0.97      0.97      1142\n",
      "           2       0.90      0.92      0.91      1010\n",
      "           3       0.90      0.89      0.90      1022\n",
      "           4       0.91      0.91      0.91       982\n",
      "           5       0.88      0.89      0.88       878\n",
      "           6       0.93      0.94      0.93       955\n",
      "           7       0.91      0.91      0.91      1021\n",
      "           8       0.89      0.88      0.88       984\n",
      "           9       0.88      0.89      0.88      1006\n",
      "\n",
      "    accuracy                           0.92     10000\n",
      "   macro avg       0.91      0.91      0.91     10000\n",
      "weighted avg       0.92      0.92      0.92     10000\n",
      "\n"
     ]
    }
   ],
   "source": [
    "Z1 = np.matmul(parameters[\"W1\"], X_test) + parameters[\"b1\"]\n",
    "A1 = sigmoid(Z1)\n",
    "Z2 = np.matmul(parameters[\"W2\"], A1) + parameters[\"b2\"]\n",
    "A2 = softmax(Z2)\n",
    "\n",
    "predicted = np.argmax(A2, axis=0)\n",
    "desired = np.argmax(Y_test, axis=0)\n",
    "\n",
    "print(confusion_matrix(predicted, desired))\n",
    "print(classification_report(predicted, desired))"
   ]
  }
 ],
 "metadata": {
  "kernelspec": {
   "display_name": "Python 3",
   "language": "python",
   "name": "python3"
  },
  "language_info": {
   "codemirror_mode": {
    "name": "ipython",
    "version": 3
   },
   "file_extension": ".py",
   "mimetype": "text/x-python",
   "name": "python",
   "nbconvert_exporter": "python",
   "pygments_lexer": "ipython3",
   "version": "3.6.9"
  }
 },
 "nbformat": 4,
 "nbformat_minor": 2
}
